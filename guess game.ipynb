{
 "cells": [
  {
   "cell_type": "code",
   "execution_count": 1,
   "id": "a2211b12",
   "metadata": {},
   "outputs": [
    {
     "name": "stdout",
     "output_type": "stream",
     "text": [
      "GUESS GAME \n",
      "Its a fruit.\n",
      "guess the word: apple\n",
      "hint: first letter is a \n",
      "remaining attempts: 2\n",
      "guess the word: avocado\n",
      "CORRECT!! You win\n",
      "Enter r for restart and e for exit: e\n",
      "Thanks for playing!!\n"
     ]
    }
   ],
   "source": [
    "a=\"avocado\"\n",
    "print(\"GUESS GAME \\nIts a fruit.\")\n",
    "def game(a):\n",
    "    global attempt\n",
    "    attempt=3\n",
    "    for i in range(attempt):\n",
    "        u=input(\"guess the word: \")\n",
    "        if attempt==3:\n",
    "            if u==a.upper() or u==a.lower():\n",
    "                print(\"CORRECT!! You win\")\n",
    "                break\n",
    "            else:\n",
    "                print(\"hint: first letter is a \")\n",
    "                attempt=attempt-1\n",
    "                print(\"remaining attempts:\",attempt)\n",
    "                \n",
    "        elif attempt==2:\n",
    "            if u==a.upper() or u==a.lower():\n",
    "                print(\"CORRECT!! You win\")\n",
    "                break\n",
    "            else:\n",
    "                print(\"hint: It contains 8 letters.\")\n",
    "                attempt=attempt-1\n",
    "                print(\"remaining attempts:\",attempt)\n",
    "                \n",
    "        else:\n",
    "            if u==a.upper() or u==a.lower():\n",
    "                print(\"CORRECT!! You win\")\n",
    "                break\n",
    "            else:\n",
    "                print(\"reamining attempts: 0\")\n",
    "                print(\"YOU LOSE!!\")\n",
    "    global re\n",
    "    re=input(\"Enter r for restart and e for exit: \")\n",
    "game(a)\n",
    "while re==\"r\":\n",
    "    game(a)\n",
    "\n",
    "print(\"Thanks for playing!!\")\n"
   ]
  },
  {
   "cell_type": "code",
   "execution_count": 1,
   "id": "3d6be341",
   "metadata": {},
   "outputs": [
    {
     "name": "stdout",
     "output_type": "stream",
     "text": [
      "GUESS GAME\n"
     ]
    },
    {
     "ename": "NameError",
     "evalue": "name 'a' is not defined",
     "output_type": "error",
     "traceback": [
      "\u001b[1;31m---------------------------------------------------------------------------\u001b[0m",
      "\u001b[1;31mNameError\u001b[0m                                 Traceback (most recent call last)",
      "Cell \u001b[1;32mIn[1], line 59\u001b[0m\n\u001b[0;32m     57\u001b[0m     \u001b[38;5;28;01mglobal\u001b[39;00m re\n\u001b[0;32m     58\u001b[0m     re\u001b[38;5;241m=\u001b[39m\u001b[38;5;28minput\u001b[39m(\u001b[38;5;124m\"\u001b[39m\u001b[38;5;124mEnter r for restart and e for exit: \u001b[39m\u001b[38;5;124m\"\u001b[39m)\n\u001b[1;32m---> 59\u001b[0m game(a)\n\u001b[0;32m     60\u001b[0m \u001b[38;5;28;01mwhile\u001b[39;00m re\u001b[38;5;241m==\u001b[39m\u001b[38;5;124m\"\u001b[39m\u001b[38;5;124mr\u001b[39m\u001b[38;5;124m\"\u001b[39m:\n\u001b[0;32m     61\u001b[0m     level\u001b[38;5;241m=\u001b[39mlevel\u001b[38;5;241m+\u001b[39m\u001b[38;5;241m1\u001b[39m\n",
      "\u001b[1;31mNameError\u001b[0m: name 'a' is not defined"
     ]
    }
   ],
   "source": [
    "fruits=[\"avocado\",\"mango\",\"papaya\",\"kiwi\",\"strawberry\"]\n",
    "people=[\"mark zuckerberg\",\"joe biden\",\"lana del rey\",\"justin beiber\",\"drake\"]\n",
    "things=[\"pen\",\"book\",\"wheeler\",\"calculator\",\"lamp\"]\n",
    "print(\"GUESS GAME\")\n",
    "def game(fruits):\n",
    "    global attempt\n",
    "    attempt=3\n",
    "    category=input(\"Choose a category (fruits, people, things): \")\n",
    "    if category==\"fruits\":\n",
    "        level=1\n",
    "        for i in fruits:\n",
    "            print(\"level:\",level)\n",
    "            while attempt>0:\n",
    "                u=input(\"Guess the word: \")\n",
    "                if u==a.upper() or u==a.lower():\n",
    "                    print(\"CORRECT!! You win\")\n",
    "                    break\n",
    "                else:\n",
    "                    attempt -= 1\n",
    "                    if attempt==1:\n",
    "                        print(f\"hint: first letter is {a[0]} \")\n",
    "                        print(\"remaining attempts:\",attempt)\n",
    "                    elif attempt==0:\n",
    "                        print(\"hint: It contains 8 letters.\")\n",
    "                        print(\"remaining attempts:\",attempt)\n",
    "                    else:\n",
    "                        print(\"reamining attempts: 0\")\n",
    "                        print(\"YOU LOSE!!\")\n",
    "            \n",
    "    for i in range(attempt):\n",
    "        u=input(\"guess the word: \")\n",
    "        if attempt==3:\n",
    "            if u==a.upper() or u==a.lower():\n",
    "                print(\"CORRECT!! You win\")\n",
    "                break\n",
    "            else:\n",
    "                print(\"hint: first letter is a \")\n",
    "                attempt=attempt-1\n",
    "                print(\"remaining attempts:\",attempt)\n",
    "                \n",
    "        elif attempt==2:\n",
    "            if u==a.upper() or u==a.lower():\n",
    "                print(\"CORRECT!! You win\")\n",
    "                break\n",
    "            else:\n",
    "                print(\"hint: It contains 8 letters.\")\n",
    "                attempt=attempt-1\n",
    "                print(\"remaining attempts:\",attempt)\n",
    "                \n",
    "        else:\n",
    "            if u==a.upper() or u==a.lower():\n",
    "                print(\"CORRECT!! You win\")\n",
    "                break\n",
    "            else:\n",
    "                print(\"reamining attempts: 0\")\n",
    "                print(\"YOU LOSE!!\")\n",
    "    global re\n",
    "    re=input(\"Enter r for restart and e for exit: \")\n",
    "game(a)\n",
    "while re==\"r\":\n",
    "    level=level+1\n",
    "    game(a)\n",
    "\n",
    "print(\"Thanks for playing!!\")\n"
   ]
  },
  {
   "cell_type": "code",
   "execution_count": null,
   "id": "8c0691c9",
   "metadata": {},
   "outputs": [
    {
     "name": "stdout",
     "output_type": "stream",
     "text": [
      "GUESS GAME \n",
      "Its a fruit.\n",
      "Guess the word: apple\n",
      "reamining attempts: 0\n",
      "YOU LOSE!!\n",
      "Guess the word: banaa\n",
      "hint: first letter is a \n",
      "remaining attempts: 1\n",
      "Guess the word: what\n",
      "hint: It contains 8 letters.\n",
      "remaining attempts: 0\n"
     ]
    }
   ],
   "source": [
    "a=\"avocado\"\n",
    "attempt=3\n",
    "print(\"GUESS GAME \\nIts a fruit.\")\n",
    "def game(a):\n",
    "    global attempt\n",
    "    while True:\n",
    "        while attempt>0:\n",
    "            u=input(\"Guess the word: \")\n",
    "            if u==a.upper() or u==a.lower():\n",
    "                print(\"CORRECT!! You win\")\n",
    "                break\n",
    "            else:\n",
    "                attempt -= 1\n",
    "                if attempt==1:\n",
    "                    print(f\"hint: first letter is {a[0]} \")\n",
    "                    print(\"remaining attempts:\",attempt)\n",
    "                elif attempt==0:\n",
    "                    print(\"hint: It contains 8 letters.\")\n",
    "                    print(\"remaining attempts:\",attempt)\n",
    "                else:\n",
    "                    print(\"reamining attempts: 0\")\n",
    "                    print(\"YOU LOSE!!\")\n",
    "    global re\n",
    "    re=input(\"Enter r for restart and e for exit: \")\n",
    "game(a)\n",
    "while re==\"r\":\n",
    "   \n",
    "    game(a)\n",
    "\n",
    "print(\"Thanks for playing!!\")\n",
    "\n",
    "                "
   ]
  },
  {
   "cell_type": "code",
   "execution_count": null,
   "id": "c5b3e25e",
   "metadata": {},
   "outputs": [],
   "source": []
  }
 ],
 "metadata": {
  "kernelspec": {
   "display_name": "Python 3 (ipykernel)",
   "language": "python",
   "name": "python3"
  },
  "language_info": {
   "codemirror_mode": {
    "name": "ipython",
    "version": 3
   },
   "file_extension": ".py",
   "mimetype": "text/x-python",
   "name": "python",
   "nbconvert_exporter": "python",
   "pygments_lexer": "ipython3",
   "version": "3.11.5"
  }
 },
 "nbformat": 4,
 "nbformat_minor": 5
}
